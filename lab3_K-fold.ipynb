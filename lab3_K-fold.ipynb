{
 "cells": [
  {
   "cell_type": "markdown",
   "metadata": {},
   "source": [
    "# Lab3 - K-fold cross validation "
   ]
  },
  {
   "cell_type": "code",
   "execution_count": 1,
   "metadata": {},
   "outputs": [],
   "source": [
    "import numpy as np\n",
    "import pandas as pd\n",
    "from sklearn.linear_model import LinearRegression\n",
    "from sklearn.model_selection import train_test_split, KFold\n",
    "from sklearn.metrics import max_error, mean_absolute_error, mean_squared_error, r2_score"
   ]
  },
  {
   "cell_type": "markdown",
   "metadata": {},
   "source": [
    "## Introduction\n",
    "\n",
    "**Goal** : Deciding used features on regression model\n",
    "\n",
    "### Processing flow\n",
    "1. Read raw data\n",
    "2. Data preprocess\n",
    "3. Build model and validation\n",
    "4. Evaluation\n"
   ]
  },
  {
   "cell_type": "markdown",
   "metadata": {},
   "source": [
    "## Read raw data\n",
    "1. read data\n",
    "1. basic observation"
   ]
  },
  {
   "cell_type": "code",
   "execution_count": 2,
   "metadata": {},
   "outputs": [],
   "source": [
    "# read dataset\n",
    "df_raw_data = pd.read_csv(\"lab3_K-fold.csv\")"
   ]
  },
  {
   "cell_type": "code",
   "execution_count": 3,
   "metadata": {},
   "outputs": [
    {
     "data": {
      "text/plain": [
       "Index(['car_ID', 'symboling', 'CarName', 'fueltype', 'aspiration',\n",
       "       'doornumber', 'carbody', 'drivewheel', 'enginelocation', 'wheelbase',\n",
       "       'carlength', 'carwidth', 'carheight', 'curbweight', 'enginetype',\n",
       "       'cylindernumber', 'enginesize', 'fuelsystem', 'boreratio', 'stroke',\n",
       "       'compressionratio', 'horsepower', 'peakrpm', 'citympg', 'highwaympg',\n",
       "       'price'],\n",
       "      dtype='object')"
      ]
     },
     "execution_count": 3,
     "metadata": {},
     "output_type": "execute_result"
    }
   ],
   "source": [
    "# view column names\n",
    "df_raw_data.keys()"
   ]
  },
  {
   "cell_type": "markdown",
   "metadata": {},
   "source": [
    "## Data preprocess\n",
    "### Selecting features that is used on prediction and prediction ground truth.\n",
    "\n",
    "1. features combination 1\n",
    "   - **symboling** : Its assigned insurance risk rating, A value of +3 indicates that the auto is risky, -3 that it is probably pretty safe.(Categorical)\n",
    "   - **fueltype** : Car fuel type i.e gas or diesel (Categorical)\n",
    "   - **fuelsystem** : Fuel system of car (Categorical)\t\t\n",
    "   - **horsepower** : Horsepower (Numeric)\n",
    "   - **price** : Price of car (Numeric)  \n",
    "&nbsp;\n",
    "2. features combination 2\n",
    "   - **symboling** : Its assigned insurance risk rating, A value of +3 indicates that the auto is risky, -3 that it is probably pretty safe.(Categorical)\n",
    "   - **CarName** : Name of car company (Categorical)\t\t\n",
    "   - **fueltype** : Car fuel type i.e gas or diesel (Categorical)\n",
    "   - **fuelsystem** : Fuel system of car (Categorical)\t\t\n",
    "   - **horsepower** : Horsepower (Numeric)\n",
    "   - **price** : Price of car (Numeric)  \n",
    "&nbsp;\n",
    "2. features combination 3\n",
    "   - **symboling** : Its assigned insurance risk rating, A value of +3 indicates that the auto is risky, -3 that it is probably pretty safe.(Categorical)\n",
    "   - **fueltype** : Car fuel type i.e gas or diesel (Categorical)\n",
    "   - **horsepower** : Horsepower (Numeric)\n",
    "   - **price** : Price of car (Numeric)  "
   ]
  },
  {
   "cell_type": "code",
   "execution_count": 4,
   "metadata": {},
   "outputs": [
    {
     "name": "stdout",
     "output_type": "stream",
     "text": [
      "There are 205 pieces of data.\n",
      "\n"
     ]
    },
    {
     "data": {
      "text/html": [
       "<div>\n",
       "<style scoped>\n",
       "    .dataframe tbody tr th:only-of-type {\n",
       "        vertical-align: middle;\n",
       "    }\n",
       "\n",
       "    .dataframe tbody tr th {\n",
       "        vertical-align: top;\n",
       "    }\n",
       "\n",
       "    .dataframe thead th {\n",
       "        text-align: right;\n",
       "    }\n",
       "</style>\n",
       "<table border=\"1\" class=\"dataframe\">\n",
       "  <thead>\n",
       "    <tr style=\"text-align: right;\">\n",
       "      <th></th>\n",
       "      <th>symboling</th>\n",
       "      <th>fueltype</th>\n",
       "      <th>fuelsystem</th>\n",
       "      <th>horsepower</th>\n",
       "      <th>price</th>\n",
       "    </tr>\n",
       "  </thead>\n",
       "  <tbody>\n",
       "    <tr>\n",
       "      <th>0</th>\n",
       "      <td>3</td>\n",
       "      <td>gas</td>\n",
       "      <td>mpfi</td>\n",
       "      <td>111</td>\n",
       "      <td>13495.0</td>\n",
       "    </tr>\n",
       "    <tr>\n",
       "      <th>1</th>\n",
       "      <td>3</td>\n",
       "      <td>gas</td>\n",
       "      <td>mpfi</td>\n",
       "      <td>111</td>\n",
       "      <td>16500.0</td>\n",
       "    </tr>\n",
       "    <tr>\n",
       "      <th>2</th>\n",
       "      <td>1</td>\n",
       "      <td>gas</td>\n",
       "      <td>mpfi</td>\n",
       "      <td>154</td>\n",
       "      <td>16500.0</td>\n",
       "    </tr>\n",
       "    <tr>\n",
       "      <th>3</th>\n",
       "      <td>2</td>\n",
       "      <td>gas</td>\n",
       "      <td>mpfi</td>\n",
       "      <td>102</td>\n",
       "      <td>13950.0</td>\n",
       "    </tr>\n",
       "    <tr>\n",
       "      <th>4</th>\n",
       "      <td>2</td>\n",
       "      <td>gas</td>\n",
       "      <td>mpfi</td>\n",
       "      <td>115</td>\n",
       "      <td>17450.0</td>\n",
       "    </tr>\n",
       "  </tbody>\n",
       "</table>\n",
       "</div>"
      ],
      "text/plain": [
       "   symboling fueltype fuelsystem  horsepower    price\n",
       "0          3      gas       mpfi         111  13495.0\n",
       "1          3      gas       mpfi         111  16500.0\n",
       "2          1      gas       mpfi         154  16500.0\n",
       "3          2      gas       mpfi         102  13950.0\n",
       "4          2      gas       mpfi         115  17450.0"
      ]
     },
     "execution_count": 4,
     "metadata": {},
     "output_type": "execute_result"
    }
   ],
   "source": [
    "# select using columns\n",
    "df_selected_data_1 = df_raw_data[['symboling', 'fueltype', 'fuelsystem', 'horsepower', 'price']]\n",
    "print(f'There are {df_selected_data_1.shape[0]} pieces of data.\\n')\n",
    "\n",
    "df_selected_data_1.head()"
   ]
  },
  {
   "cell_type": "code",
   "execution_count": 5,
   "metadata": {},
   "outputs": [
    {
     "name": "stdout",
     "output_type": "stream",
     "text": [
      "There are 205 pieces of data.\n",
      "\n"
     ]
    },
    {
     "data": {
      "text/html": [
       "<div>\n",
       "<style scoped>\n",
       "    .dataframe tbody tr th:only-of-type {\n",
       "        vertical-align: middle;\n",
       "    }\n",
       "\n",
       "    .dataframe tbody tr th {\n",
       "        vertical-align: top;\n",
       "    }\n",
       "\n",
       "    .dataframe thead th {\n",
       "        text-align: right;\n",
       "    }\n",
       "</style>\n",
       "<table border=\"1\" class=\"dataframe\">\n",
       "  <thead>\n",
       "    <tr style=\"text-align: right;\">\n",
       "      <th></th>\n",
       "      <th>symboling</th>\n",
       "      <th>CarName</th>\n",
       "      <th>fueltype</th>\n",
       "      <th>fuelsystem</th>\n",
       "      <th>horsepower</th>\n",
       "      <th>price</th>\n",
       "    </tr>\n",
       "  </thead>\n",
       "  <tbody>\n",
       "    <tr>\n",
       "      <th>0</th>\n",
       "      <td>3</td>\n",
       "      <td>alfa-romero giulia</td>\n",
       "      <td>gas</td>\n",
       "      <td>mpfi</td>\n",
       "      <td>111</td>\n",
       "      <td>13495.0</td>\n",
       "    </tr>\n",
       "    <tr>\n",
       "      <th>1</th>\n",
       "      <td>3</td>\n",
       "      <td>alfa-romero stelvio</td>\n",
       "      <td>gas</td>\n",
       "      <td>mpfi</td>\n",
       "      <td>111</td>\n",
       "      <td>16500.0</td>\n",
       "    </tr>\n",
       "    <tr>\n",
       "      <th>2</th>\n",
       "      <td>1</td>\n",
       "      <td>alfa-romero Quadrifoglio</td>\n",
       "      <td>gas</td>\n",
       "      <td>mpfi</td>\n",
       "      <td>154</td>\n",
       "      <td>16500.0</td>\n",
       "    </tr>\n",
       "    <tr>\n",
       "      <th>3</th>\n",
       "      <td>2</td>\n",
       "      <td>audi 100 ls</td>\n",
       "      <td>gas</td>\n",
       "      <td>mpfi</td>\n",
       "      <td>102</td>\n",
       "      <td>13950.0</td>\n",
       "    </tr>\n",
       "    <tr>\n",
       "      <th>4</th>\n",
       "      <td>2</td>\n",
       "      <td>audi 100ls</td>\n",
       "      <td>gas</td>\n",
       "      <td>mpfi</td>\n",
       "      <td>115</td>\n",
       "      <td>17450.0</td>\n",
       "    </tr>\n",
       "  </tbody>\n",
       "</table>\n",
       "</div>"
      ],
      "text/plain": [
       "   symboling                   CarName fueltype fuelsystem  horsepower  \\\n",
       "0          3        alfa-romero giulia      gas       mpfi         111   \n",
       "1          3       alfa-romero stelvio      gas       mpfi         111   \n",
       "2          1  alfa-romero Quadrifoglio      gas       mpfi         154   \n",
       "3          2               audi 100 ls      gas       mpfi         102   \n",
       "4          2                audi 100ls      gas       mpfi         115   \n",
       "\n",
       "     price  \n",
       "0  13495.0  \n",
       "1  16500.0  \n",
       "2  16500.0  \n",
       "3  13950.0  \n",
       "4  17450.0  "
      ]
     },
     "execution_count": 5,
     "metadata": {},
     "output_type": "execute_result"
    }
   ],
   "source": [
    "# select using columns\n",
    "df_selected_data_2 = df_raw_data[['symboling', 'CarName', 'fueltype', 'fuelsystem', 'horsepower', 'price']]\n",
    "print(f'There are {df_selected_data_2.shape[0]} pieces of data.\\n')\n",
    "\n",
    "df_selected_data_2.head()"
   ]
  },
  {
   "cell_type": "code",
   "execution_count": 6,
   "metadata": {},
   "outputs": [
    {
     "name": "stdout",
     "output_type": "stream",
     "text": [
      "There are 205 pieces of data.\n",
      "\n"
     ]
    },
    {
     "data": {
      "text/html": [
       "<div>\n",
       "<style scoped>\n",
       "    .dataframe tbody tr th:only-of-type {\n",
       "        vertical-align: middle;\n",
       "    }\n",
       "\n",
       "    .dataframe tbody tr th {\n",
       "        vertical-align: top;\n",
       "    }\n",
       "\n",
       "    .dataframe thead th {\n",
       "        text-align: right;\n",
       "    }\n",
       "</style>\n",
       "<table border=\"1\" class=\"dataframe\">\n",
       "  <thead>\n",
       "    <tr style=\"text-align: right;\">\n",
       "      <th></th>\n",
       "      <th>symboling</th>\n",
       "      <th>fueltype</th>\n",
       "      <th>horsepower</th>\n",
       "      <th>price</th>\n",
       "    </tr>\n",
       "  </thead>\n",
       "  <tbody>\n",
       "    <tr>\n",
       "      <th>0</th>\n",
       "      <td>3</td>\n",
       "      <td>gas</td>\n",
       "      <td>111</td>\n",
       "      <td>13495.0</td>\n",
       "    </tr>\n",
       "    <tr>\n",
       "      <th>1</th>\n",
       "      <td>3</td>\n",
       "      <td>gas</td>\n",
       "      <td>111</td>\n",
       "      <td>16500.0</td>\n",
       "    </tr>\n",
       "    <tr>\n",
       "      <th>2</th>\n",
       "      <td>1</td>\n",
       "      <td>gas</td>\n",
       "      <td>154</td>\n",
       "      <td>16500.0</td>\n",
       "    </tr>\n",
       "    <tr>\n",
       "      <th>3</th>\n",
       "      <td>2</td>\n",
       "      <td>gas</td>\n",
       "      <td>102</td>\n",
       "      <td>13950.0</td>\n",
       "    </tr>\n",
       "    <tr>\n",
       "      <th>4</th>\n",
       "      <td>2</td>\n",
       "      <td>gas</td>\n",
       "      <td>115</td>\n",
       "      <td>17450.0</td>\n",
       "    </tr>\n",
       "  </tbody>\n",
       "</table>\n",
       "</div>"
      ],
      "text/plain": [
       "   symboling fueltype  horsepower    price\n",
       "0          3      gas         111  13495.0\n",
       "1          3      gas         111  16500.0\n",
       "2          1      gas         154  16500.0\n",
       "3          2      gas         102  13950.0\n",
       "4          2      gas         115  17450.0"
      ]
     },
     "execution_count": 6,
     "metadata": {},
     "output_type": "execute_result"
    }
   ],
   "source": [
    "# select using columns\n",
    "df_selected_data_3 = df_raw_data[['symboling', 'fueltype', 'horsepower', 'price']]\n",
    "print(f'There are {df_selected_data_3.shape[0]} pieces of data.\\n')\n",
    "\n",
    "df_selected_data_3.head()"
   ]
  },
  {
   "cell_type": "markdown",
   "metadata": {},
   "source": [
    "### process missing data\n",
    "1. check nan value\n",
    "2. fill a cell manually\n",
    "2. fillna by column\n",
    "3. dropna"
   ]
  },
  {
   "cell_type": "code",
   "execution_count": 7,
   "metadata": {},
   "outputs": [
    {
     "data": {
      "text/plain": [
       "symboling     0\n",
       "fueltype      0\n",
       "fuelsystem    0\n",
       "horsepower    0\n",
       "price         0\n",
       "dtype: int64"
      ]
     },
     "execution_count": 7,
     "metadata": {},
     "output_type": "execute_result"
    }
   ],
   "source": [
    "# check missing data\n",
    "df_selected_data_1.isnull().sum()"
   ]
  },
  {
   "cell_type": "code",
   "execution_count": 8,
   "metadata": {},
   "outputs": [
    {
     "data": {
      "text/plain": [
       "symboling     0\n",
       "CarName       0\n",
       "fueltype      0\n",
       "fuelsystem    0\n",
       "horsepower    0\n",
       "price         0\n",
       "dtype: int64"
      ]
     },
     "execution_count": 8,
     "metadata": {},
     "output_type": "execute_result"
    }
   ],
   "source": [
    "# check missing data\n",
    "df_selected_data_2.isnull().sum()"
   ]
  },
  {
   "cell_type": "code",
   "execution_count": 9,
   "metadata": {},
   "outputs": [
    {
     "data": {
      "text/plain": [
       "symboling     0\n",
       "fueltype      0\n",
       "horsepower    0\n",
       "price         0\n",
       "dtype: int64"
      ]
     },
     "execution_count": 9,
     "metadata": {},
     "output_type": "execute_result"
    }
   ],
   "source": [
    "# check missing data\n",
    "df_selected_data_3.isnull().sum()"
   ]
  },
  {
   "cell_type": "markdown",
   "metadata": {},
   "source": [
    "### Other preprocess"
   ]
  },
  {
   "cell_type": "code",
   "execution_count": 10,
   "metadata": {},
   "outputs": [],
   "source": [
    "CarName_values = df_raw_data['CarName'].value_counts().keys()\n",
    "fueltype_values = df_raw_data['fueltype'].value_counts().keys()\n",
    "fuelsystem_values = df_raw_data['fuelsystem'].value_counts().keys()"
   ]
  },
  {
   "cell_type": "code",
   "execution_count": 11,
   "metadata": {},
   "outputs": [],
   "source": [
    "def preprocess_1(df_selected_data):\n",
    "    encoding = []\n",
    "\n",
    "    # symboling\n",
    "    symboling = df_selected_data['symboling'].to_numpy()\n",
    "    encoding.append(symboling)\n",
    "\n",
    "    # fueltype\n",
    "    fueltype = df_selected_data['fueltype'].to_numpy()\n",
    "    encoding.append(1 * (fueltype == fueltype_values[0]))\n",
    "    \n",
    "    # fuelsystem\n",
    "    fuelsystem = df_selected_data['fuelsystem'].to_numpy()\n",
    "    for fuelsystem_value in fuelsystem_values:\n",
    "        encoding.append(fuelsystem == fuelsystem_value)\n",
    "\n",
    "    # horsepower\n",
    "    horsepower = df_selected_data['horsepower'].to_numpy()\n",
    "    encoding.append(horsepower)\n",
    "\n",
    "    # price\n",
    "    price = df_selected_data['price'].to_numpy()\n",
    "    encoding.append(price)\n",
    "\n",
    "    processed_data = np.stack(encoding, axis=1)\n",
    "\n",
    "    return processed_data"
   ]
  },
  {
   "cell_type": "code",
   "execution_count": 12,
   "metadata": {},
   "outputs": [],
   "source": [
    "def preprocess_2(df_selected_data):\n",
    "    encoding = []\n",
    "\n",
    "    # symboling\n",
    "    symboling = df_selected_data['symboling'].to_numpy()\n",
    "    encoding.append(symboling)\n",
    "\n",
    "    # CarName\n",
    "    CarName = df_selected_data['CarName'].to_numpy()\n",
    "    for CarName_value in CarName_values:\n",
    "        encoding.append(CarName == CarName_value)\n",
    "\n",
    "    # fueltype\n",
    "    fueltype = df_selected_data['fueltype'].to_numpy()\n",
    "    encoding.append(1 * (fueltype == fueltype_values[0]))\n",
    "    \n",
    "    # fuelsystem\n",
    "    fuelsystem = df_selected_data['fuelsystem'].to_numpy()\n",
    "    for fuelsystem_value in fuelsystem_values:\n",
    "        encoding.append(fuelsystem == fuelsystem_value)\n",
    "\n",
    "    # horsepower\n",
    "    horsepower = df_selected_data['horsepower'].to_numpy()\n",
    "    encoding.append(horsepower)\n",
    "\n",
    "    # price\n",
    "    price = df_selected_data['price'].to_numpy()\n",
    "    encoding.append(price)\n",
    "\n",
    "    processed_data = np.stack(encoding, axis=1)\n",
    "\n",
    "    return processed_data"
   ]
  },
  {
   "cell_type": "code",
   "execution_count": 13,
   "metadata": {},
   "outputs": [],
   "source": [
    "def preprocess_3(df_selected_data):\n",
    "    encoding = []\n",
    "\n",
    "    # symboling\n",
    "    symboling = df_selected_data['symboling'].to_numpy()\n",
    "    encoding.append(symboling)\n",
    "\n",
    "    # fueltype\n",
    "    fueltype = df_selected_data['fueltype'].to_numpy()\n",
    "    encoding.append(1 * (fueltype == fueltype_values[0]))\n",
    "    \n",
    "    # horsepower\n",
    "    horsepower = df_selected_data['horsepower'].to_numpy()\n",
    "    encoding.append(horsepower)\n",
    "\n",
    "    # price\n",
    "    price = df_selected_data['price'].to_numpy()\n",
    "    encoding.append(price)\n",
    "\n",
    "    processed_data = np.stack(encoding, axis=1)\n",
    "\n",
    "    return processed_data"
   ]
  },
  {
   "cell_type": "code",
   "execution_count": 14,
   "metadata": {},
   "outputs": [],
   "source": [
    "# combination 1\n",
    "preprocessed_data_1 = preprocess_1(df_selected_data_1)\n",
    "# combination 2\n",
    "preprocessed_data_2 = preprocess_2(df_selected_data_2)\n",
    "# combination 3\n",
    "preprocessed_data_3 = preprocess_3(df_selected_data_3)"
   ]
  },
  {
   "cell_type": "markdown",
   "metadata": {},
   "source": [
    "## Build model and validation\n",
    "\n",
    "1. build model and validation - feature combination 1\n",
    "2. build model and validation - feature combination 2\n",
    "3. build model and validation - feature combination 3\n",
    "4. comparing performance - use mean squared error as performance index"
   ]
  },
  {
   "cell_type": "markdown",
   "metadata": {},
   "source": [
    "### build model and validation - feature combination 1"
   ]
  },
  {
   "cell_type": "code",
   "execution_count": 15,
   "metadata": {},
   "outputs": [],
   "source": [
    "# split dataset into test and non-test set\n",
    "X_1 = preprocessed_data_1[:, 0:-1]\n",
    "Y_1 = preprocessed_data_1[:, -1]\n",
    "\n",
    "X_non_test_1, X_test_1, Y_non_test_1, Y_test_1 = train_test_split(X_1, Y_1, test_size=0.2, random_state=42)"
   ]
  },
  {
   "cell_type": "code",
   "execution_count": 16,
   "metadata": {},
   "outputs": [],
   "source": [
    "# K-fold and validation\n",
    "validation_1 = []\n",
    "kf_1 = KFold(n_splits=5, shuffle=True, random_state=42)\n",
    "\n",
    "for train_index_1, validation_index_1 in kf_1.split(X_non_test_1):\n",
    "    X_train_1, X_validation_1 = X_non_test_1[train_index_1], X_non_test_1[validation_index_1]\n",
    "    Y_train_1, Y_validation_1 = Y_non_test_1[train_index_1], Y_non_test_1[validation_index_1]\n",
    "    # train\n",
    "    model_1 = LinearRegression()\n",
    "    model_1.fit(X_train_1, Y_train_1)\n",
    "    # validation\n",
    "    Y_pred_1 = model_1.predict(X_validation_1)\n",
    "    validation_1.append(mean_squared_error(Y_validation_1, Y_pred_1))"
   ]
  },
  {
   "cell_type": "markdown",
   "metadata": {},
   "source": [
    "### build model and validation - feature combination 2"
   ]
  },
  {
   "cell_type": "code",
   "execution_count": 17,
   "metadata": {},
   "outputs": [],
   "source": [
    "# split dataset into test and non-test set\n",
    "X_2 = preprocessed_data_2[:, 0:-1]\n",
    "Y_2 = preprocessed_data_2[:, -1]\n",
    "\n",
    "X_non_test_2, X_test_2, Y_non_test_2, Y_test_2 = train_test_split(X_2, Y_2, test_size=0.2, random_state=42)"
   ]
  },
  {
   "cell_type": "code",
   "execution_count": 18,
   "metadata": {},
   "outputs": [],
   "source": [
    "# K-fold and validation\n",
    "validation_2 = []\n",
    "kf_2 = KFold(n_splits=5, shuffle=True, random_state=42)\n",
    "\n",
    "for train_index_2, validation_index_2 in kf_2.split(X_non_test_2):\n",
    "    X_train_2, X_validation_2 = X_non_test_2[train_index_2], X_non_test_2[validation_index_2]\n",
    "    Y_train_2, Y_validation_2 = Y_non_test_2[train_index_2], Y_non_test_2[validation_index_2]\n",
    "    # train\n",
    "    model_2 = LinearRegression()\n",
    "    model_2.fit(X_train_2, Y_train_2)\n",
    "    # validation\n",
    "    Y_pred_2 = model_2.predict(X_validation_2)\n",
    "    validation_2.append(mean_squared_error(Y_validation_2, Y_pred_2))"
   ]
  },
  {
   "cell_type": "markdown",
   "metadata": {},
   "source": [
    "### build model and validation - feature combination 3"
   ]
  },
  {
   "cell_type": "code",
   "execution_count": 19,
   "metadata": {},
   "outputs": [],
   "source": [
    "# split dataset into test and non-test set\n",
    "X_3 = preprocessed_data_3[:, 0:-1]\n",
    "Y_3 = preprocessed_data_3[:, -1]\n",
    "\n",
    "X_non_test_3, X_test_3, Y_non_test_3, Y_test_3 = train_test_split(X_3, Y_3, test_size=0.2, random_state=42)"
   ]
  },
  {
   "cell_type": "code",
   "execution_count": 20,
   "metadata": {},
   "outputs": [],
   "source": [
    "# K-fold and validation\n",
    "validation_3 = []\n",
    "kf_3 = KFold(n_splits=5, shuffle=True, random_state=42)\n",
    "\n",
    "for train_index_3, validation_index_3 in kf_3.split(X_non_test_3):\n",
    "    X_train_3, X_validation_3 = X_non_test_3[train_index_3], X_non_test_3[validation_index_3]\n",
    "    Y_train_3, Y_validation_3 = Y_non_test_3[train_index_3], Y_non_test_3[validation_index_3]\n",
    "    # train\n",
    "    model_3 = LinearRegression()\n",
    "    model_3.fit(X_train_3, Y_train_3)\n",
    "    # validation\n",
    "    Y_pred_3 = model_3.predict(X_validation_3)\n",
    "    validation_3.append(mean_squared_error(Y_validation_3, Y_pred_3))"
   ]
  },
  {
   "cell_type": "markdown",
   "metadata": {},
   "source": [
    "### comparing performance"
   ]
  },
  {
   "cell_type": "code",
   "execution_count": 21,
   "metadata": {},
   "outputs": [
    {
     "name": "stdout",
     "output_type": "stream",
     "text": [
      "Average performance of combination 1 : 17308902.314698007\n",
      "Average performance of combination 2 : 2623020531701391256832704512.000000\n",
      "Average performance of combination 3 : 18301518.947004\n"
     ]
    }
   ],
   "source": [
    "# print mean value\n",
    "print(f'Average performance of combination 1 : {sum(validation_1) / len(validation_1)}')\n",
    "print(f'Average performance of combination 2 : {sum(validation_2) / len(validation_2):f}')\n",
    "print(f'Average performance of combination 3 : {sum(validation_3) / len(validation_3):f}')"
   ]
  },
  {
   "cell_type": "markdown",
   "metadata": {},
   "source": [
    "### Evaluation\n",
    "1. train a new model with non-test dataset\n",
    "2. evaluate test data with test dataset\n",
    "   - max error\n",
    "   - mean absolute error\n",
    "   - root mean squared error\n",
    "   - r2 score (coefficient of determination)\n",
    "   - [Other metrics](https://scikit-learn.org/stable/modules/model_evaluation.html)"
   ]
  },
  {
   "cell_type": "markdown",
   "metadata": {},
   "source": [
    "### train a new model with non-test dataset"
   ]
  },
  {
   "cell_type": "code",
   "execution_count": 22,
   "metadata": {},
   "outputs": [
    {
     "data": {
      "text/plain": [
       "LinearRegression()"
      ]
     },
     "execution_count": 22,
     "metadata": {},
     "output_type": "execute_result"
    }
   ],
   "source": [
    "model = LinearRegression()\n",
    "model.fit(X_non_test_1, Y_non_test_1)"
   ]
  },
  {
   "cell_type": "markdown",
   "metadata": {},
   "source": [
    "### evaluate test data with test dataset"
   ]
  },
  {
   "cell_type": "code",
   "execution_count": 23,
   "metadata": {},
   "outputs": [
    {
     "name": "stdout",
     "output_type": "stream",
     "text": [
      "Max error : 15222.658053407227\n",
      "Mean absolute error : 3063.297476184377\n",
      "Root mean squared error : 4422.471291460953\n",
      "R2 score (Coefficient of determination) : 0.7522516321582995\n"
     ]
    }
   ],
   "source": [
    "# make prediction\n",
    "Y_pred_1 = model.predict(X_test_1)\n",
    "# make prediction\n",
    "# max error\n",
    "print(f'Max error : {max_error(Y_test_1,Y_pred_1)}')\n",
    "\n",
    "# mean absolute error\n",
    "print(f'Mean absolute error : {mean_absolute_error(Y_test_1,Y_pred_1)}')\n",
    "\n",
    "# mean root mean error\n",
    "print(f'Root mean squared error : {mean_squared_error(Y_test_1,Y_pred_1, squared=False)}')\n",
    "\n",
    "# r2 score\n",
    "print(f'R2 score (Coefficient of determination) : {r2_score(Y_test_1,Y_pred_1)}')"
   ]
  },
  {
   "cell_type": "code",
   "execution_count": null,
   "metadata": {},
   "outputs": [],
   "source": []
  }
 ],
 "metadata": {
  "interpreter": {
   "hash": "9eb2389ae6c035d883d1c264c73f9d842f51716610e8952cb5d78e53740a0c02"
  },
  "kernelspec": {
   "display_name": "Python 3.10.0 64-bit",
   "language": "python",
   "name": "python3"
  },
  "language_info": {
   "codemirror_mode": {
    "name": "ipython",
    "version": 3
   },
   "file_extension": ".py",
   "mimetype": "text/x-python",
   "name": "python",
   "nbconvert_exporter": "python",
   "pygments_lexer": "ipython3",
   "version": "3.9.9"
  },
  "orig_nbformat": 4
 },
 "nbformat": 4,
 "nbformat_minor": 2
}
