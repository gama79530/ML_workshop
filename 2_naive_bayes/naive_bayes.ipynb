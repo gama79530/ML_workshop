{
 "cells": [
  {
   "cell_type": "markdown",
   "metadata": {},
   "source": [
    "# Lab2 - Naive Bayes classifier"
   ]
  },
  {
   "cell_type": "code",
   "execution_count": null,
   "metadata": {},
   "outputs": [],
   "source": [
    "import numpy as np\n",
    "import pandas as pd\n",
    "import matplotlib.pyplot as plt\n",
    "import seaborn as sns\n",
    "\n",
    "from sklearn.naive_bayes  import GaussianNB\n",
    "from sklearn.model_selection import train_test_split\n",
    "from sklearn.metrics import accuracy_score, precision_score, recall_score, f1_score, classification_report, confusion_matrix, ConfusionMatrixDisplay"
   ]
  },
  {
   "cell_type": "markdown",
   "metadata": {},
   "source": [
    "## Introduction\n",
    "\n",
    "**Goal** : Predict whether a player's career length is greater than or equal to 5\n",
    "\n",
    "**Assumption of distribution** : Gaussian distribution (for numeric features)\n",
    "\n",
    "### Processing flow\n",
    "1. Read raw data\n",
    "2. Data preprocess\n",
    "3. Build model\n",
    "\n",
    "### Dataset - [NBA Prediction for Naive Bayes](https://www.kaggle.com/wtamubuff/nba-prediction-for-naive-bayes)\n",
    "#### Files ####\n",
    "1. nba_longevity.csv\n",
    "\n",
    "<img src=\"Data_Dictionary_nba_longevity.png\" style=\"width: 400px;\"/>"
   ]
  },
  {
   "cell_type": "markdown",
   "metadata": {},
   "source": [
    "## Read raw data\n",
    "1. read data\n",
    "1. basic observation"
   ]
  },
  {
   "cell_type": "code",
   "execution_count": null,
   "metadata": {},
   "outputs": [],
   "source": [
    "# read dataset\n",
    "df_raw_data = pd.read_csv(\"nba_longevity.csv\")\n",
    "\n",
    "# view data\n",
    "df_raw_data.head() "
   ]
  },
  {
   "cell_type": "code",
   "execution_count": null,
   "metadata": {},
   "outputs": [],
   "source": [
    "# view column names\n",
    "df_raw_data.keys()"
   ]
  },
  {
   "cell_type": "code",
   "execution_count": null,
   "metadata": {},
   "outputs": [],
   "source": [
    "# show data type of a certain column\n",
    "df_raw_data['PTS'].dtype"
   ]
  },
  {
   "cell_type": "markdown",
   "metadata": {},
   "source": [
    "## Data preprocess\n",
    "### Selecting features that is used on prediction and prediction ground truth.\n",
    "   - **GP** : games played\n",
    "   - **MIN** : minutes played\n",
    "   - **PTS** : points per game\n",
    "   - **TARGET_5Yrs** : outcome:1 if career length >= 5 yrs, 0 if < 5..."
   ]
  },
  {
   "cell_type": "code",
   "execution_count": null,
   "metadata": {},
   "outputs": [],
   "source": [
    "# select using columns\n",
    "df_selected_data = df_raw_data[['GP', 'MIN', 'PTS', 'TARGET_5Yrs']]\n",
    "print(f'There are {df_selected_data.shape[0]} pieces of data.\\n')\n",
    "\n",
    "df_selected_data.head()"
   ]
  },
  {
   "cell_type": "markdown",
   "metadata": {},
   "source": [
    "### process missing data\n",
    "1. check nan value\n",
    "2. fill a cell manually\n",
    "2. fillna by column\n",
    "3. dropna"
   ]
  },
  {
   "cell_type": "code",
   "execution_count": null,
   "metadata": {},
   "outputs": [],
   "source": [
    "# check missing data\n",
    "df_selected_data.isnull().sum()"
   ]
  },
  {
   "cell_type": "markdown",
   "metadata": {},
   "source": [
    "### Other preprocess\n",
    "No thing to do"
   ]
  },
  {
   "cell_type": "code",
   "execution_count": null,
   "metadata": {},
   "outputs": [],
   "source": [
    "preprocessed_data = df_selected_data.to_numpy()"
   ]
  },
  {
   "cell_type": "markdown",
   "metadata": {},
   "source": [
    "## Build model\n",
    "1. Split dataset to training set and testing set.\n",
    "2. Training model\n",
    "3. Evaluation"
   ]
  },
  {
   "cell_type": "code",
   "execution_count": null,
   "metadata": {},
   "outputs": [],
   "source": [
    "X = preprocessed_data[:, 0:-1]\n",
    "Y = preprocessed_data[:, -1]\n",
    "\n",
    "X_train, X_test, Y_train, Y_test = train_test_split(X, Y, test_size=0.2, random_state=42)"
   ]
  },
  {
   "cell_type": "markdown",
   "metadata": {},
   "source": [
    "### Build model"
   ]
  },
  {
   "cell_type": "code",
   "execution_count": null,
   "metadata": {},
   "outputs": [],
   "source": [
    "gaussian_nb_model = GaussianNB()\n",
    "gaussian_nb_model.fit(X_train, Y_train)"
   ]
  },
  {
   "cell_type": "markdown",
   "metadata": {},
   "source": [
    "### Evaluation\n",
    "1. calculating $\\text{accuracy} = \\frac{TP + TN}{Number of samples}$\n",
    "\n",
    "2. calculating $\\text{precision} = \\frac{TP}{TP + FP}$\n",
    "\n",
    "2. calculating $\\text{recall} = \\frac{TP}{TP + FN}$\n",
    "\n",
    "2. calculating $\\text{F1 score} = \\frac{2 \\times \\text{precision} \\times \\text{recall}}{\\text{precision} + \\text{recall}}$\n",
    "\n",
    "1. [Other metrics](https://scikit-learn.org/stable/modules/model_evaluation.html)\n",
    "\n",
    "3. drawing confusion matrix"
   ]
  },
  {
   "cell_type": "code",
   "execution_count": null,
   "metadata": {},
   "outputs": [],
   "source": [
    "# make prediction\n",
    "Y_pred = gaussian_nb_model.predict(X_test)\n",
    "\n",
    "# accuracy\n",
    "accuracy = accuracy_score(Y_test, Y_pred)\n",
    "# precision\n",
    "precision = precision_score(Y_test, Y_pred)\n",
    "# recall\n",
    "recall = recall_score(Y_test, Y_pred)\n",
    "# F1 score\n",
    "f1_score = f1_score(Y_test, Y_pred)\n",
    "\n",
    "# classification_report\n",
    "target_names = ['< 5 yrs', '>= 5 yrs']\n",
    "print(classification_report(Y_test, Y_pred, target_names=target_names))"
   ]
  },
  {
   "cell_type": "code",
   "execution_count": null,
   "metadata": {},
   "outputs": [],
   "source": [
    "# confusion matrix\n",
    "cm = confusion_matrix(Y_test, Y_pred)\n",
    "disp = ConfusionMatrixDisplay.from_predictions(Y_test, Y_pred)\n",
    "plt.show()"
   ]
  },
  {
   "cell_type": "markdown",
   "metadata": {},
   "source": []
  },
  {
   "cell_type": "markdown",
   "metadata": {},
   "source": [
    "## Practice - adding new feature into naive Bayes classifier\n",
    "\n",
    "**Hint :** \n",
    "1. make sure that the naive assumption is make sense\n",
    "1. Gaussian distribution is suitable for modeling the distribution of added feature."
   ]
  },
  {
   "cell_type": "code",
   "execution_count": null,
   "metadata": {},
   "outputs": [],
   "source": []
  },
  {
   "cell_type": "code",
   "execution_count": null,
   "metadata": {},
   "outputs": [],
   "source": []
  }
 ],
 "metadata": {
  "interpreter": {
   "hash": "e0d8f2b181f70ad8037cdb8448e854d9ce572ea9623de03b9ff84bd13a2dd4f4"
  },
  "kernelspec": {
   "display_name": "Python 3.9.9 64-bit",
   "language": "python",
   "name": "python3"
  },
  "language_info": {
   "codemirror_mode": {
    "name": "ipython",
    "version": 3
   },
   "file_extension": ".py",
   "mimetype": "text/x-python",
   "name": "python",
   "nbconvert_exporter": "python",
   "pygments_lexer": "ipython3",
   "version": "3.9.9"
  },
  "orig_nbformat": 4
 },
 "nbformat": 4,
 "nbformat_minor": 2
}
