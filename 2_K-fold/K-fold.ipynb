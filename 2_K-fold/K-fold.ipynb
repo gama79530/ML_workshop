{
 "cells": [
  {
   "cell_type": "markdown",
   "metadata": {},
   "source": [
    "# Lab2 - K-fold cross validation "
   ]
  },
  {
   "cell_type": "code",
   "execution_count": null,
   "metadata": {},
   "outputs": [],
   "source": [
    "import numpy as np\n",
    "import pandas as pd\n",
    "from sklearn.linear_model import LinearRegression\n",
    "from sklearn.model_selection import train_test_split, KFold\n",
    "from sklearn.metrics import max_error, mean_absolute_error, mean_squared_error, r2_score\n",
    "\n",
    "colab_environment = True"
   ]
  },
  {
   "cell_type": "markdown",
   "metadata": {},
   "source": [
    "## Introduction\n",
    "\n",
    "**Goal** : Deciding used features on regression model\n",
    "\n",
    "### Processing flow\n",
    "1. Read raw data\n",
    "2. Data preprocess\n",
    "3. Build model and validation\n",
    "4. Evaluation\n"
   ]
  },
  {
   "cell_type": "markdown",
   "metadata": {},
   "source": [
    "## Read raw data\n",
    "1. read data\n",
    "1. basic observation"
   ]
  },
  {
   "cell_type": "code",
   "execution_count": null,
   "metadata": {},
   "outputs": [],
   "source": [
    "# For colab environment\n",
    "if colab_environment:\n",
    "    from google.colab import drive\n",
    "    drive.mount('/content/drive')\n",
    "    csv_path = '/content/drive/MyDrive/ML_workshop/3_K-fold/CarPrice_Assignment.csv'\n",
    "else:\n",
    "    csv_path = 'CarPrice_Assignment.csv'"
   ]
  },
  {
   "cell_type": "code",
   "execution_count": null,
   "metadata": {},
   "outputs": [],
   "source": [
    "# read dataset\n",
    "df_raw_data = pd.read_csv(csv_path)"
   ]
  },
  {
   "cell_type": "code",
   "execution_count": null,
   "metadata": {},
   "outputs": [],
   "source": [
    "# view column names\n",
    "df_raw_data.keys()"
   ]
  },
  {
   "cell_type": "markdown",
   "metadata": {},
   "source": [
    "## Data preprocess\n",
    "### Selecting features that is used on prediction and prediction ground truth.\n",
    "\n",
    "1. features combination 1\n",
    "   - **symboling** : Its assigned insurance risk rating, A value of +3 indicates that the auto is risky, -3 that it is probably pretty safe.(Categorical)\n",
    "   - **fueltype** : Car fuel type i.e gas or diesel (Categorical)\n",
    "   - **fuelsystem** : Fuel system of car (Categorical)\t\t\n",
    "   - **horsepower** : Horsepower (Numeric)\n",
    "   - **price** : Price of car (Numeric)  \n",
    "&nbsp;\n",
    "2. features combination 2\n",
    "   - **symboling** : Its assigned insurance risk rating, A value of +3 indicates that the auto is risky, -3 that it is probably pretty safe.(Categorical)\n",
    "   - **CarName** : Name of car company (Categorical)\t\t\n",
    "   - **fueltype** : Car fuel type i.e gas or diesel (Categorical)\n",
    "   - **fuelsystem** : Fuel system of car (Categorical)\t\t\n",
    "   - **horsepower** : Horsepower (Numeric)\n",
    "   - **price** : Price of car (Numeric)  \n",
    "&nbsp;\n",
    "2. features combination 3\n",
    "   - **symboling** : Its assigned insurance risk rating, A value of +3 indicates that the auto is risky, -3 that it is probably pretty safe.(Categorical)\n",
    "   - **fueltype** : Car fuel type i.e gas or diesel (Categorical)\n",
    "   - **horsepower** : Horsepower (Numeric)\n",
    "   - **price** : Price of car (Numeric)  "
   ]
  },
  {
   "cell_type": "code",
   "execution_count": null,
   "metadata": {},
   "outputs": [],
   "source": [
    "# select using columns\n",
    "df_selected_data_1 = df_raw_data[['symboling', 'fueltype', 'fuelsystem', 'horsepower', 'price']]\n",
    "print(f'There are {df_selected_data_1.shape[0]} pieces of data.\\n')\n",
    "\n",
    "df_selected_data_1.head()"
   ]
  },
  {
   "cell_type": "code",
   "execution_count": null,
   "metadata": {},
   "outputs": [],
   "source": [
    "# select using columns\n",
    "df_selected_data_2 = df_raw_data[['symboling', 'CarName', 'fueltype', 'fuelsystem', 'horsepower', 'price']]\n",
    "print(f'There are {df_selected_data_2.shape[0]} pieces of data.\\n')\n",
    "\n",
    "df_selected_data_2.head()"
   ]
  },
  {
   "cell_type": "code",
   "execution_count": null,
   "metadata": {},
   "outputs": [],
   "source": [
    "# select using columns\n",
    "df_selected_data_3 = df_raw_data[['symboling', 'fueltype', 'horsepower', 'price']]\n",
    "print(f'There are {df_selected_data_3.shape[0]} pieces of data.\\n')\n",
    "\n",
    "df_selected_data_3.head()"
   ]
  },
  {
   "cell_type": "markdown",
   "metadata": {},
   "source": [
    "### process missing data\n",
    "1. check nan value\n",
    "2. fill a cell manually\n",
    "2. fillna by column\n",
    "3. dropna"
   ]
  },
  {
   "cell_type": "code",
   "execution_count": null,
   "metadata": {},
   "outputs": [],
   "source": [
    "# check missing data\n",
    "df_selected_data_1.isnull().sum()"
   ]
  },
  {
   "cell_type": "code",
   "execution_count": null,
   "metadata": {},
   "outputs": [],
   "source": [
    "# check missing data\n",
    "df_selected_data_2.isnull().sum()"
   ]
  },
  {
   "cell_type": "code",
   "execution_count": null,
   "metadata": {},
   "outputs": [],
   "source": [
    "# check missing data\n",
    "df_selected_data_3.isnull().sum()"
   ]
  },
  {
   "cell_type": "markdown",
   "metadata": {},
   "source": [
    "### Other preprocess"
   ]
  },
  {
   "cell_type": "code",
   "execution_count": null,
   "metadata": {},
   "outputs": [],
   "source": [
    "CarName_values = df_raw_data['CarName'].value_counts().keys()\n",
    "fueltype_values = df_raw_data['fueltype'].value_counts().keys()\n",
    "fuelsystem_values = df_raw_data['fuelsystem'].value_counts().keys()"
   ]
  },
  {
   "cell_type": "code",
   "execution_count": null,
   "metadata": {},
   "outputs": [],
   "source": [
    "def preprocess_1(df_selected_data):\n",
    "    encoding = []\n",
    "\n",
    "    # symboling\n",
    "    symboling = df_selected_data['symboling'].to_numpy()\n",
    "    encoding.append(symboling)\n",
    "\n",
    "    # fueltype\n",
    "    fueltype = df_selected_data['fueltype'].to_numpy()\n",
    "    encoding.append(1 * (fueltype == fueltype_values[0]))\n",
    "    \n",
    "    # fuelsystem\n",
    "    fuelsystem = df_selected_data['fuelsystem'].to_numpy()\n",
    "    for fuelsystem_value in fuelsystem_values:\n",
    "        encoding.append(fuelsystem == fuelsystem_value)\n",
    "\n",
    "    # horsepower\n",
    "    horsepower = df_selected_data['horsepower'].to_numpy()\n",
    "    encoding.append(horsepower)\n",
    "\n",
    "    # price\n",
    "    price = df_selected_data['price'].to_numpy()\n",
    "    encoding.append(price)\n",
    "\n",
    "    processed_data = np.stack(encoding, axis=1)\n",
    "\n",
    "    return processed_data"
   ]
  },
  {
   "cell_type": "code",
   "execution_count": null,
   "metadata": {},
   "outputs": [],
   "source": [
    "def preprocess_2(df_selected_data):\n",
    "    encoding = []\n",
    "\n",
    "    # symboling\n",
    "    symboling = df_selected_data['symboling'].to_numpy()\n",
    "    encoding.append(symboling)\n",
    "\n",
    "    # CarName\n",
    "    CarName = df_selected_data['CarName'].to_numpy()\n",
    "    for CarName_value in CarName_values:\n",
    "        encoding.append(CarName == CarName_value)\n",
    "\n",
    "    # fueltype\n",
    "    fueltype = df_selected_data['fueltype'].to_numpy()\n",
    "    encoding.append(1 * (fueltype == fueltype_values[0]))\n",
    "    \n",
    "    # fuelsystem\n",
    "    fuelsystem = df_selected_data['fuelsystem'].to_numpy()\n",
    "    for fuelsystem_value in fuelsystem_values:\n",
    "        encoding.append(fuelsystem == fuelsystem_value)\n",
    "\n",
    "    # horsepower\n",
    "    horsepower = df_selected_data['horsepower'].to_numpy()\n",
    "    encoding.append(horsepower)\n",
    "\n",
    "    # price\n",
    "    price = df_selected_data['price'].to_numpy()\n",
    "    encoding.append(price)\n",
    "\n",
    "    processed_data = np.stack(encoding, axis=1)\n",
    "\n",
    "    return processed_data"
   ]
  },
  {
   "cell_type": "code",
   "execution_count": null,
   "metadata": {},
   "outputs": [],
   "source": [
    "def preprocess_3(df_selected_data):\n",
    "    encoding = []\n",
    "\n",
    "    # symboling\n",
    "    symboling = df_selected_data['symboling'].to_numpy()\n",
    "    encoding.append(symboling)\n",
    "\n",
    "    # fueltype\n",
    "    fueltype = df_selected_data['fueltype'].to_numpy()\n",
    "    encoding.append(1 * (fueltype == fueltype_values[0]))\n",
    "    \n",
    "    # horsepower\n",
    "    horsepower = df_selected_data['horsepower'].to_numpy()\n",
    "    encoding.append(horsepower)\n",
    "\n",
    "    # price\n",
    "    price = df_selected_data['price'].to_numpy()\n",
    "    encoding.append(price)\n",
    "\n",
    "    processed_data = np.stack(encoding, axis=1)\n",
    "\n",
    "    return processed_data"
   ]
  },
  {
   "cell_type": "code",
   "execution_count": null,
   "metadata": {},
   "outputs": [],
   "source": [
    "# combination 1\n",
    "preprocessed_data_1 = preprocess_1(df_selected_data_1)\n",
    "# combination 2\n",
    "preprocessed_data_2 = preprocess_2(df_selected_data_2)\n",
    "# combination 3\n",
    "preprocessed_data_3 = preprocess_3(df_selected_data_3)"
   ]
  },
  {
   "cell_type": "markdown",
   "metadata": {},
   "source": [
    "## Build model and validation\n",
    "\n",
    "1. build model and validation - feature combination 1\n",
    "2. build model and validation - feature combination 2\n",
    "3. build model and validation - feature combination 3\n",
    "4. comparing performance - use mean squared error as performance index"
   ]
  },
  {
   "cell_type": "markdown",
   "metadata": {},
   "source": [
    "### build model and validation - feature combination 1"
   ]
  },
  {
   "cell_type": "code",
   "execution_count": null,
   "metadata": {},
   "outputs": [],
   "source": [
    "# split dataset into test and non-test set\n",
    "X_1 = preprocessed_data_1[:, 0:-1]\n",
    "Y_1 = preprocessed_data_1[:, -1]\n",
    "\n",
    "X_non_test_1, X_test_1, Y_non_test_1, Y_test_1 = train_test_split(X_1, Y_1, test_size=0.2, random_state=42)"
   ]
  },
  {
   "cell_type": "code",
   "execution_count": null,
   "metadata": {},
   "outputs": [],
   "source": [
    "# K-fold and validation\n",
    "validation_1 = []\n",
    "kf_1 = KFold(n_splits=5, shuffle=True, random_state=42)\n",
    "\n",
    "for train_index_1, validation_index_1 in kf_1.split(X_non_test_1):\n",
    "    X_train_1, X_validation_1 = X_non_test_1[train_index_1], X_non_test_1[validation_index_1]\n",
    "    Y_train_1, Y_validation_1 = Y_non_test_1[train_index_1], Y_non_test_1[validation_index_1]\n",
    "    # train\n",
    "    model_1 = LinearRegression()\n",
    "    model_1.fit(X_train_1, Y_train_1)\n",
    "    # validation\n",
    "    Y_pred_1 = model_1.predict(X_validation_1)\n",
    "    validation_1.append(mean_squared_error(Y_validation_1, Y_pred_1))"
   ]
  },
  {
   "cell_type": "markdown",
   "metadata": {},
   "source": [
    "### build model and validation - feature combination 2"
   ]
  },
  {
   "cell_type": "code",
   "execution_count": null,
   "metadata": {},
   "outputs": [],
   "source": [
    "# split dataset into test and non-test set\n",
    "X_2 = preprocessed_data_2[:, 0:-1]\n",
    "Y_2 = preprocessed_data_2[:, -1]\n",
    "\n",
    "X_non_test_2, X_test_2, Y_non_test_2, Y_test_2 = train_test_split(X_2, Y_2, test_size=0.2, random_state=42)"
   ]
  },
  {
   "cell_type": "code",
   "execution_count": null,
   "metadata": {},
   "outputs": [],
   "source": [
    "# K-fold and validation\n",
    "validation_2 = []\n",
    "kf_2 = KFold(n_splits=5, shuffle=True, random_state=42)\n",
    "\n",
    "for train_index_2, validation_index_2 in kf_2.split(X_non_test_2):\n",
    "    X_train_2, X_validation_2 = X_non_test_2[train_index_2], X_non_test_2[validation_index_2]\n",
    "    Y_train_2, Y_validation_2 = Y_non_test_2[train_index_2], Y_non_test_2[validation_index_2]\n",
    "    # train\n",
    "    model_2 = LinearRegression()\n",
    "    model_2.fit(X_train_2, Y_train_2)\n",
    "    # validation\n",
    "    Y_pred_2 = model_2.predict(X_validation_2)\n",
    "    validation_2.append(mean_squared_error(Y_validation_2, Y_pred_2))"
   ]
  },
  {
   "cell_type": "markdown",
   "metadata": {},
   "source": [
    "### build model and validation - feature combination 3"
   ]
  },
  {
   "cell_type": "code",
   "execution_count": null,
   "metadata": {},
   "outputs": [],
   "source": [
    "# split dataset into test and non-test set\n",
    "X_3 = preprocessed_data_3[:, 0:-1]\n",
    "Y_3 = preprocessed_data_3[:, -1]\n",
    "\n",
    "X_non_test_3, X_test_3, Y_non_test_3, Y_test_3 = train_test_split(X_3, Y_3, test_size=0.2, random_state=42)"
   ]
  },
  {
   "cell_type": "code",
   "execution_count": null,
   "metadata": {},
   "outputs": [],
   "source": [
    "# K-fold and validation\n",
    "validation_3 = []\n",
    "kf_3 = KFold(n_splits=5, shuffle=True, random_state=42)\n",
    "\n",
    "for train_index_3, validation_index_3 in kf_3.split(X_non_test_3):\n",
    "    X_train_3, X_validation_3 = X_non_test_3[train_index_3], X_non_test_3[validation_index_3]\n",
    "    Y_train_3, Y_validation_3 = Y_non_test_3[train_index_3], Y_non_test_3[validation_index_3]\n",
    "    # train\n",
    "    model_3 = LinearRegression()\n",
    "    model_3.fit(X_train_3, Y_train_3)\n",
    "    # validation\n",
    "    Y_pred_3 = model_3.predict(X_validation_3)\n",
    "    validation_3.append(mean_squared_error(Y_validation_3, Y_pred_3))"
   ]
  },
  {
   "cell_type": "markdown",
   "metadata": {},
   "source": [
    "### comparing performance"
   ]
  },
  {
   "cell_type": "code",
   "execution_count": null,
   "metadata": {},
   "outputs": [],
   "source": [
    "# print mean value\n",
    "print(f'Average performance of combination 1 : {sum(validation_1) / len(validation_1)}')\n",
    "print(f'Average performance of combination 2 : {sum(validation_2) / len(validation_2):f}')\n",
    "print(f'Average performance of combination 3 : {sum(validation_3) / len(validation_3):f}')"
   ]
  },
  {
   "cell_type": "markdown",
   "metadata": {},
   "source": [
    "### Evaluation\n",
    "1. train a new model with non-test dataset\n",
    "2. evaluate test data with test dataset\n",
    "   - max error\n",
    "   - mean absolute error\n",
    "   - root mean squared error\n",
    "   - r2 score (coefficient of determination)\n",
    "   - [Other metrics](https://scikit-learn.org/stable/modules/model_evaluation.html)"
   ]
  },
  {
   "cell_type": "markdown",
   "metadata": {},
   "source": [
    "### train a new model with non-test dataset"
   ]
  },
  {
   "cell_type": "code",
   "execution_count": null,
   "metadata": {},
   "outputs": [],
   "source": [
    "model = LinearRegression()\n",
    "model.fit(X_non_test_1, Y_non_test_1)"
   ]
  },
  {
   "cell_type": "markdown",
   "metadata": {},
   "source": [
    "### evaluate test data with test dataset"
   ]
  },
  {
   "cell_type": "code",
   "execution_count": null,
   "metadata": {},
   "outputs": [],
   "source": [
    "# make prediction\n",
    "Y_pred_1 = model.predict(X_test_1)\n",
    "# make prediction\n",
    "# max error\n",
    "print(f'Max error : {max_error(Y_test_1,Y_pred_1)}')\n",
    "\n",
    "# mean absolute error\n",
    "print(f'Mean absolute error : {mean_absolute_error(Y_test_1,Y_pred_1)}')\n",
    "\n",
    "# mean root mean error\n",
    "print(f'Root mean squared error : {mean_squared_error(Y_test_1,Y_pred_1, squared=False)}')\n",
    "\n",
    "# r2 score\n",
    "print(f'R2 score (Coefficient of determination) : {r2_score(Y_test_1,Y_pred_1)}')"
   ]
  },
  {
   "cell_type": "code",
   "execution_count": null,
   "metadata": {},
   "outputs": [],
   "source": []
  }
 ],
 "metadata": {
  "interpreter": {
   "hash": "e0d8f2b181f70ad8037cdb8448e854d9ce572ea9623de03b9ff84bd13a2dd4f4"
  },
  "kernelspec": {
   "display_name": "Python 3.9.9 64-bit",
   "language": "python",
   "name": "python3"
  },
  "language_info": {
   "codemirror_mode": {
    "name": "ipython",
    "version": 3
   },
   "file_extension": ".py",
   "mimetype": "text/x-python",
   "name": "python",
   "nbconvert_exporter": "python",
   "pygments_lexer": "ipython3",
   "version": "3.9.9"
  },
  "orig_nbformat": 4
 },
 "nbformat": 4,
 "nbformat_minor": 2
}
