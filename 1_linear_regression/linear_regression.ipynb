{
 "cells": [
  {
   "cell_type": "markdown",
   "metadata": {},
   "source": [
    "# Lab1 - Linear regression"
   ]
  },
  {
   "cell_type": "code",
   "execution_count": null,
   "metadata": {},
   "outputs": [],
   "source": [
    "import numpy as np\n",
    "import pandas as pd\n",
    "from sklearn.linear_model import LinearRegression\n",
    "from sklearn.model_selection import train_test_split\n",
    "from sklearn.metrics import max_error, mean_absolute_error, mean_squared_error, r2_score"
   ]
  },
  {
   "cell_type": "markdown",
   "metadata": {},
   "source": [
    "## Introduction\n",
    "\n",
    "**Goal** : Model the price of cars with the available independent variables.\n",
    "\n",
    "### Processing flow\n",
    "1. Read raw data\n",
    "2. Data preprocess\n",
    "3. Build model\n",
    "\n",
    "### Dataset - [Car Price Prediction Multiple Linear Regression](https://www.kaggle.com/hellbuoy/car-price-prediction)\n",
    "#### Files ####\n",
    "1. CarPrice_Assignment.csv\n",
    "1. Data Dictionary - carprices.xlsx\n",
    "\n",
    "<img src=\"linear_regression_dataset.jpg\" style=\"width: 600px;\"/>"
   ]
  },
  {
   "cell_type": "markdown",
   "metadata": {},
   "source": [
    "## Read raw data\n",
    "1. read data\n",
    "1. basic observation"
   ]
  },
  {
   "cell_type": "code",
   "execution_count": null,
   "metadata": {},
   "outputs": [],
   "source": [
    "# read dataset\n",
    "df_raw_data = pd.read_csv(\"CarPrice_Assignment.csv\")\n",
    "\n",
    "# view data\n",
    "df_raw_data.head() "
   ]
  },
  {
   "cell_type": "code",
   "execution_count": null,
   "metadata": {},
   "outputs": [],
   "source": [
    "# view column names\n",
    "df_raw_data.keys()"
   ]
  },
  {
   "cell_type": "code",
   "execution_count": null,
   "metadata": {},
   "outputs": [],
   "source": [
    "# show data type of a certain column\n",
    "df_raw_data['fueltype'].dtype"
   ]
  },
  {
   "cell_type": "code",
   "execution_count": null,
   "metadata": {},
   "outputs": [],
   "source": [
    "# show types of value of a certain column\n",
    "df_raw_data['fueltype'].value_counts().keys()"
   ]
  },
  {
   "cell_type": "markdown",
   "metadata": {},
   "source": [
    "## Data preprocess\n",
    "### Selecting features that is used on prediction and prediction ground truth.\n",
    "- **symboling** : Its assigned insurance risk rating, A value of +3 indicates that the auto is risky, -3 that it is probably pretty safe.(Categorical)\n",
    "- **fueltype** : Car fuel type i.e gas or diesel (Categorical)\n",
    "- **fuelsystem** : Fuel system of car (Categorical)\t\t\n",
    "- **horsepower** : Horsepower (Numeric)\n",
    "- **price** : Price of car (Numeric)"
   ]
  },
  {
   "cell_type": "code",
   "execution_count": null,
   "metadata": {},
   "outputs": [],
   "source": [
    "# select using columns\n",
    "df_selected_data = df_raw_data[['symboling', 'fueltype', 'fuelsystem', 'horsepower', 'price']]\n",
    "print(f'There are {df_selected_data.shape[0]} pieces of data.\\n')\n",
    "\n",
    "df_selected_data.head()"
   ]
  },
  {
   "cell_type": "markdown",
   "metadata": {},
   "source": [
    "### process missing data\n",
    "1. check nan value\n",
    "2. fill a cell manually\n",
    "2. fillna by column\n",
    "3. dropna"
   ]
  },
  {
   "cell_type": "code",
   "execution_count": null,
   "metadata": {},
   "outputs": [],
   "source": [
    "# check missing data\n",
    "df_selected_data.isnull().sum()"
   ]
  },
  {
   "cell_type": "code",
   "execution_count": null,
   "metadata": {},
   "outputs": [],
   "source": [
    "# show missing data\n",
    "df_selected_data[df_selected_data.isnull().any(axis=1)]"
   ]
  },
  {
   "cell_type": "code",
   "execution_count": null,
   "metadata": {},
   "outputs": [],
   "source": [
    "# fill a cell manually\n",
    "df_selected_data.at[0, 'symboling'] = 3\n",
    "\n",
    "# fillna by column\n",
    "values = {'horsepower': 145}\n",
    "df_selected_data = df_selected_data.fillna(value=values)\n",
    "\n",
    "# dropna\n",
    "df_selected_data = df_selected_data.dropna()\n",
    "\n",
    "# check missing data again\n",
    "df_selected_data.isnull().sum()"
   ]
  },
  {
   "cell_type": "markdown",
   "metadata": {},
   "source": [
    "### Other preprocess\n",
    "1. make sure every input feature is a quantitative feature.\n",
    "   - **symboling** : Categorical and quantitative.\n",
    "   - **fueltype** : Categorical and can be regarded as quantitative.\n",
    "   - **fuelsystem** : Categorical but not quantitative.\n",
    "   - **horsepower** : Numeric and quantitative\n",
    "   - **price** : Numeric and quantitative"
   ]
  },
  {
   "cell_type": "code",
   "execution_count": null,
   "metadata": {},
   "outputs": [],
   "source": [
    "df_raw_data['symboling'].dtype"
   ]
  },
  {
   "cell_type": "code",
   "execution_count": null,
   "metadata": {},
   "outputs": [],
   "source": [
    "fueltype_values = df_raw_data['fueltype'].value_counts().keys()\n",
    "fueltype_values"
   ]
  },
  {
   "cell_type": "code",
   "execution_count": null,
   "metadata": {},
   "outputs": [],
   "source": [
    "fuelsystem_values = df_raw_data['fuelsystem'].value_counts().keys()\n",
    "fuelsystem_values"
   ]
  },
  {
   "cell_type": "code",
   "execution_count": null,
   "metadata": {},
   "outputs": [],
   "source": [
    "df_raw_data['horsepower'].dtype"
   ]
  },
  {
   "cell_type": "code",
   "execution_count": null,
   "metadata": {},
   "outputs": [],
   "source": [
    "df_raw_data['price'].dtype"
   ]
  },
  {
   "cell_type": "code",
   "execution_count": null,
   "metadata": {},
   "outputs": [],
   "source": [
    "def preprocess(df_selected_data):\n",
    "    encoding = []\n",
    "\n",
    "    # symboling\n",
    "    symboling = df_selected_data['symboling'].to_numpy()\n",
    "    encoding.append(symboling)\n",
    "\n",
    "    # fueltype\n",
    "    fueltype = df_selected_data['fueltype'].to_numpy()\n",
    "    encoding.append(1 * (fueltype == fueltype_values[0]))\n",
    "    \n",
    "    # fuelsystem\n",
    "    fuelsystem = df_selected_data['fuelsystem'].to_numpy()\n",
    "    for fuelsystem_value in fuelsystem_values:\n",
    "        encoding.append(fuelsystem == fuelsystem_value)\n",
    "\n",
    "    # horsepower\n",
    "    horsepower = df_selected_data['horsepower'].to_numpy()\n",
    "    encoding.append(horsepower)\n",
    "\n",
    "    # price\n",
    "    price = df_selected_data['price'].to_numpy()\n",
    "    encoding.append(price)\n",
    "\n",
    "    processed_data = np.stack(encoding, axis=1)\n",
    "\n",
    "    return processed_data"
   ]
  },
  {
   "cell_type": "code",
   "execution_count": null,
   "metadata": {},
   "outputs": [],
   "source": [
    "preprocessed_data = preprocess(df_selected_data)"
   ]
  },
  {
   "cell_type": "markdown",
   "metadata": {},
   "source": [
    "## Build model\n",
    "1. Split dataset to training set and testing set.\n",
    "2. Training model\n",
    "3. Evaluation"
   ]
  },
  {
   "cell_type": "markdown",
   "metadata": {},
   "source": [
    "### Split dataset to training set and testing set."
   ]
  },
  {
   "cell_type": "code",
   "execution_count": null,
   "metadata": {},
   "outputs": [],
   "source": [
    "X = preprocessed_data[:, 0:-1]\n",
    "Y = preprocessed_data[:, -1]\n",
    "\n",
    "X_train, X_test, Y_train, Y_test = train_test_split(X, Y, test_size=0.2, random_state=42)"
   ]
  },
  {
   "cell_type": "markdown",
   "metadata": {},
   "source": [
    "### Build model"
   ]
  },
  {
   "cell_type": "code",
   "execution_count": null,
   "metadata": {},
   "outputs": [],
   "source": [
    "linear_regression_model = LinearRegression()\n",
    "linear_regression_model.fit(X_train, Y_train)\n",
    "\n",
    "print(f'coef: {linear_regression_model.coef_}')\n",
    "print(f'intercept: {linear_regression_model.intercept_}')"
   ]
  },
  {
   "cell_type": "markdown",
   "metadata": {},
   "source": [
    "### Evaluation\n",
    "1. calculating max error\n",
    "1. calculating mean absolute error\n",
    "2. calculating root mean squared error\n",
    "3. calculating r2 score (coefficient of determination)\n",
    "1. [Other metrics](https://scikit-learn.org/stable/modules/model_evaluation.html)"
   ]
  },
  {
   "cell_type": "code",
   "execution_count": null,
   "metadata": {},
   "outputs": [],
   "source": [
    "# make prediction\n",
    "Y_pred = linear_regression_model.predict(X_test)\n",
    "\n",
    "# max error\n",
    "print(f'Max error : {max_error(Y_test,Y_pred)}')\n",
    "\n",
    "# mean absolute error\n",
    "print(f'Mean absolute error : {mean_absolute_error(Y_test,Y_pred)}')\n",
    "\n",
    "# mean root mean error\n",
    "print(f'Root mean squared error : {mean_squared_error(Y_test,Y_pred, squared=False)}')\n",
    "\n",
    "# r2 score\n",
    "print(f'R2 score (Coefficient of determination) : {r2_score(Y_test,Y_pred)}')"
   ]
  },
  {
   "cell_type": "markdown",
   "metadata": {},
   "source": [
    "## Practice - adding new feature into linear regression model\n",
    "\n",
    "**Hint :** \n",
    "1. make sure that added feature is quantitative.\n",
    "2. the selected feature is related to output score."
   ]
  },
  {
   "cell_type": "code",
   "execution_count": null,
   "metadata": {},
   "outputs": [],
   "source": []
  }
 ],
 "metadata": {
  "interpreter": {
   "hash": "e0d8f2b181f70ad8037cdb8448e854d9ce572ea9623de03b9ff84bd13a2dd4f4"
  },
  "kernelspec": {
   "display_name": "Python 3.9.9 64-bit",
   "language": "python",
   "name": "python3"
  },
  "language_info": {
   "codemirror_mode": {
    "name": "ipython",
    "version": 3
   },
   "file_extension": ".py",
   "mimetype": "text/x-python",
   "name": "python",
   "nbconvert_exporter": "python",
   "pygments_lexer": "ipython3",
   "version": "3.9.9"
  },
  "orig_nbformat": 4
 },
 "nbformat": 4,
 "nbformat_minor": 2
}
